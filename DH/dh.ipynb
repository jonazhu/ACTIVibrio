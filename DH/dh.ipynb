{
 "cells": [
  {
   "cell_type": "markdown",
   "metadata": {},
   "source": [
    "# DH Algorithm\n",
    "\n",
    "Developed by Sanjoy **D**asgupta and Daniel **H**su, the DH algorithm operates on a hierarchical clustering. Iteratively, it works its way through the hierarchical tree and (in loose terms) estimates the error if the subsequent tree (pruning) were assigned the majority label to all the nodes. \n",
    "\n",
    "This implementation of DH is adapted from Haotian Teng's implementation, found at https://github.com/haotianteng/DH."
   ]
  },
  {
   "cell_type": "code",
   "execution_count": null,
   "metadata": {},
   "outputs": [],
   "source": [
    "import numpy as np\n",
    "from numpy.random import choice\n",
    "from typing import List, Tuple, Union, Iterable\n",
    "from scipy.cluster.hierarchy import to_tree\n",
    "from scipy.cluster.hierarchy import ClusterNode"
   ]
  },
  {
   "cell_type": "code",
   "execution_count": null,
   "metadata": {},
   "outputs": [],
   "source": []
  }
 ],
 "metadata": {
  "kernelspec": {
   "display_name": "sklearn-env",
   "language": "python",
   "name": "python3"
  },
  "language_info": {
   "name": "python",
   "version": "3.13.1"
  }
 },
 "nbformat": 4,
 "nbformat_minor": 2
}
